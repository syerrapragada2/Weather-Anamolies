{
 "cells": [
  {
   "cell_type": "code",
   "execution_count": null,
   "id": "6125d10c",
   "metadata": {},
   "outputs": [],
   "source": [
    " pip install jupysql duckdb-engine"
   ]
  },
  {
   "cell_type": "markdown",
   "id": "a8b16c38",
   "metadata": {},
   "source": [
    "### Start ###"
   ]
  },
  {
   "cell_type": "code",
   "execution_count": 1,
   "id": "4d1f4acd",
   "metadata": {},
   "outputs": [
    {
     "data": {
      "text/html": [
       "<span style=\"None\">Connecting to &#x27;duckdb:///../data/weather.duckdb&#x27;</span>"
      ],
      "text/plain": [
       "Connecting to 'duckdb:///../data/weather.duckdb'"
      ]
     },
     "metadata": {},
     "output_type": "display_data"
    }
   ],
   "source": [
    "%load_ext sql\n",
    "%sql duckdb:///../data/weather.duckdb"
   ]
  },
  {
   "cell_type": "code",
   "execution_count": 2,
   "id": "d6036981",
   "metadata": {},
   "outputs": [
    {
     "data": {
      "text/html": [
       "<span style=\"None\">Running query in &#x27;duckdb:///../data/weather.duckdb&#x27;</span>"
      ],
      "text/plain": [
       "Running query in 'duckdb:///../data/weather.duckdb'"
      ]
     },
     "metadata": {},
     "output_type": "display_data"
    },
    {
     "data": {
      "text/html": [
       "<table>\n",
       "    <thead>\n",
       "        <tr>\n",
       "            <th>city</th>\n",
       "            <th>date</th>\n",
       "            <th>temp_max</th>\n",
       "            <th>temp_min</th>\n",
       "            <th>precipitation</th>\n",
       "            <th>windspeed_max</th>\n",
       "        </tr>\n",
       "    </thead>\n",
       "    <tbody>\n",
       "        <tr>\n",
       "            <td>Tokyo_JP</td>\n",
       "            <td>2022-01-01</td>\n",
       "            <td>6.0</td>\n",
       "            <td>-2.4</td>\n",
       "            <td>0.0</td>\n",
       "            <td>39.2</td>\n",
       "        </tr>\n",
       "        <tr>\n",
       "            <td>Tokyo_JP</td>\n",
       "            <td>2022-01-02</td>\n",
       "            <td>6.1</td>\n",
       "            <td>-1.6</td>\n",
       "            <td>0.0</td>\n",
       "            <td>23.1</td>\n",
       "        </tr>\n",
       "        <tr>\n",
       "            <td>Tokyo_JP</td>\n",
       "            <td>2022-01-03</td>\n",
       "            <td>8.9</td>\n",
       "            <td>-0.9</td>\n",
       "            <td>0.0</td>\n",
       "            <td>30.4</td>\n",
       "        </tr>\n",
       "        <tr>\n",
       "            <td>Tokyo_JP</td>\n",
       "            <td>2022-01-04</td>\n",
       "            <td>10.9</td>\n",
       "            <td>-2.7</td>\n",
       "            <td>0.1</td>\n",
       "            <td>41.4</td>\n",
       "        </tr>\n",
       "        <tr>\n",
       "            <td>Tokyo_JP</td>\n",
       "            <td>2022-01-05</td>\n",
       "            <td>6.9</td>\n",
       "            <td>-1.2</td>\n",
       "            <td>0.0</td>\n",
       "            <td>35.9</td>\n",
       "        </tr>\n",
       "        <tr>\n",
       "            <td>Tokyo_JP</td>\n",
       "            <td>2022-01-06</td>\n",
       "            <td>0.8</td>\n",
       "            <td>-2.9</td>\n",
       "            <td>7.2</td>\n",
       "            <td>16.0</td>\n",
       "        </tr>\n",
       "        <tr>\n",
       "            <td>Tokyo_JP</td>\n",
       "            <td>2022-01-07</td>\n",
       "            <td>7.4</td>\n",
       "            <td>-7.8</td>\n",
       "            <td>0.0</td>\n",
       "            <td>32.1</td>\n",
       "        </tr>\n",
       "        <tr>\n",
       "            <td>Tokyo_JP</td>\n",
       "            <td>2022-01-08</td>\n",
       "            <td>8.4</td>\n",
       "            <td>0.3</td>\n",
       "            <td>0.0</td>\n",
       "            <td>24.0</td>\n",
       "        </tr>\n",
       "        <tr>\n",
       "            <td>Tokyo_JP</td>\n",
       "            <td>2022-01-09</td>\n",
       "            <td>10.5</td>\n",
       "            <td>-2.7</td>\n",
       "            <td>0.0</td>\n",
       "            <td>18.5</td>\n",
       "        </tr>\n",
       "        <tr>\n",
       "            <td>Tokyo_JP</td>\n",
       "            <td>2022-01-10</td>\n",
       "            <td>8.7</td>\n",
       "            <td>2.9</td>\n",
       "            <td>0.0</td>\n",
       "            <td>19.9</td>\n",
       "        </tr>\n",
       "    </tbody>\n",
       "</table>\n",
       "<span style=\"font-style:italic;text-align:center;\">Truncated to <a href=\"https://jupysql.ploomber.io/en/latest/api/configuration.html#displaylimit\">displaylimit</a> of 10.</span>"
      ],
      "text/plain": [
       "+----------+------------+----------+----------+---------------+---------------+\n",
       "|   city   |    date    | temp_max | temp_min | precipitation | windspeed_max |\n",
       "+----------+------------+----------+----------+---------------+---------------+\n",
       "| Tokyo_JP | 2022-01-01 |   6.0    |   -2.4   |      0.0      |      39.2     |\n",
       "| Tokyo_JP | 2022-01-02 |   6.1    |   -1.6   |      0.0      |      23.1     |\n",
       "| Tokyo_JP | 2022-01-03 |   8.9    |   -0.9   |      0.0      |      30.4     |\n",
       "| Tokyo_JP | 2022-01-04 |   10.9   |   -2.7   |      0.1      |      41.4     |\n",
       "| Tokyo_JP | 2022-01-05 |   6.9    |   -1.2   |      0.0      |      35.9     |\n",
       "| Tokyo_JP | 2022-01-06 |   0.8    |   -2.9   |      7.2      |      16.0     |\n",
       "| Tokyo_JP | 2022-01-07 |   7.4    |   -7.8   |      0.0      |      32.1     |\n",
       "| Tokyo_JP | 2022-01-08 |   8.4    |   0.3    |      0.0      |      24.0     |\n",
       "| Tokyo_JP | 2022-01-09 |   10.5   |   -2.7   |      0.0      |      18.5     |\n",
       "| Tokyo_JP | 2022-01-10 |   8.7    |   2.9    |      0.0      |      19.9     |\n",
       "+----------+------------+----------+----------+---------------+---------------+\n",
       "Truncated to displaylimit of 10."
      ]
     },
     "execution_count": 2,
     "metadata": {},
     "output_type": "execute_result"
    }
   ],
   "source": [
    "%%sql\n",
    "SELECT * FROM raw.weatherhistorical LIMIT 10;"
   ]
  },
  {
   "cell_type": "code",
   "execution_count": 3,
   "id": "ad8cd8e6",
   "metadata": {},
   "outputs": [
    {
     "data": {
      "text/html": [
       "<span style=\"None\">Running query in &#x27;duckdb:///../data/weather.duckdb&#x27;</span>"
      ],
      "text/plain": [
       "Running query in 'duckdb:///../data/weather.duckdb'"
      ]
     },
     "metadata": {},
     "output_type": "display_data"
    },
    {
     "data": {
      "text/html": [
       "<table>\n",
       "    <thead>\n",
       "        <tr>\n",
       "            <th>count_star()</th>\n",
       "        </tr>\n",
       "    </thead>\n",
       "    <tbody>\n",
       "        <tr>\n",
       "            <td>21920</td>\n",
       "        </tr>\n",
       "    </tbody>\n",
       "</table>"
      ],
      "text/plain": [
       "+--------------+\n",
       "| count_star() |\n",
       "+--------------+\n",
       "|    21920     |\n",
       "+--------------+"
      ]
     },
     "execution_count": 3,
     "metadata": {},
     "output_type": "execute_result"
    }
   ],
   "source": [
    "%%sql\n",
    "select count(*) from raw.weatherhistorical;"
   ]
  },
  {
   "cell_type": "code",
   "execution_count": 4,
   "id": "004bd779",
   "metadata": {},
   "outputs": [
    {
     "data": {
      "text/html": [
       "<span style=\"None\">Running query in &#x27;duckdb:///../data/weather.duckdb&#x27;</span>"
      ],
      "text/plain": [
       "Running query in 'duckdb:///../data/weather.duckdb'"
      ]
     },
     "metadata": {},
     "output_type": "display_data"
    },
    {
     "data": {
      "text/html": [
       "<table>\n",
       "    <thead>\n",
       "        <tr>\n",
       "            <th>city_null_pct</th>\n",
       "            <th>date_null_pct</th>\n",
       "            <th>temp_max_null_pct</th>\n",
       "            <th>temp_min_null_pct</th>\n",
       "            <th>precipitation_null_pct</th>\n",
       "            <th>windspeed_max_null_pct</th>\n",
       "        </tr>\n",
       "    </thead>\n",
       "    <tbody>\n",
       "        <tr>\n",
       "            <td>None</td>\n",
       "            <td>None</td>\n",
       "            <td>None</td>\n",
       "            <td>None</td>\n",
       "            <td>None</td>\n",
       "            <td>None</td>\n",
       "        </tr>\n",
       "    </tbody>\n",
       "</table>"
      ],
      "text/plain": [
       "+---------------+---------------+-------------------+-------------------+------------------------+------------------------+\n",
       "| city_null_pct | date_null_pct | temp_max_null_pct | temp_min_null_pct | precipitation_null_pct | windspeed_max_null_pct |\n",
       "+---------------+---------------+-------------------+-------------------+------------------------+------------------------+\n",
       "|      None     |      None     |        None       |        None       |          None          |          None          |\n",
       "+---------------+---------------+-------------------+-------------------+------------------------+------------------------+"
      ]
     },
     "execution_count": 4,
     "metadata": {},
     "output_type": "execute_result"
    }
   ],
   "source": [
    "%%sql\n",
    "select \n",
    "sum(case when city is null then 1 end) / count(*) as city_null_pct,\n",
    "sum(case when date is null then 1 end) / count(*) as date_null_pct,\n",
    "sum(case when temp_max is null then 1 end) / count(*) as temp_max_null_pct,\n",
    "sum(case when temp_min is null then 1 end) / count(*) as temp_min_null_pct,\n",
    "sum(case when precipitation is null then 1 end) / count(*) as precipitation_null_pct,\n",
    "sum(case when windspeed_max is null then 1 end) / count(*) as windspeed_max_null_pct\n",
    "from raw.weatherhistorical;\n"
   ]
  },
  {
   "cell_type": "code",
   "execution_count": 5,
   "id": "824db380",
   "metadata": {},
   "outputs": [
    {
     "data": {
      "text/html": [
       "<span style=\"None\">Running query in &#x27;duckdb:///../data/weather.duckdb&#x27;</span>"
      ],
      "text/plain": [
       "Running query in 'duckdb:///../data/weather.duckdb'"
      ]
     },
     "metadata": {},
     "output_type": "display_data"
    },
    {
     "data": {
      "text/html": [
       "<table>\n",
       "    <thead>\n",
       "        <tr>\n",
       "            <th>min_date</th>\n",
       "            <th>max_date</th>\n",
       "        </tr>\n",
       "    </thead>\n",
       "    <tbody>\n",
       "        <tr>\n",
       "            <td>2022-01-01</td>\n",
       "            <td>2024-12-31</td>\n",
       "        </tr>\n",
       "    </tbody>\n",
       "</table>"
      ],
      "text/plain": [
       "+------------+------------+\n",
       "|  min_date  |  max_date  |\n",
       "+------------+------------+\n",
       "| 2022-01-01 | 2024-12-31 |\n",
       "+------------+------------+"
      ]
     },
     "execution_count": 5,
     "metadata": {},
     "output_type": "execute_result"
    }
   ],
   "source": [
    "%%sql \n",
    "select min(date) as min_date, max(date) as max_date from raw.weatherhistorical;"
   ]
  },
  {
   "cell_type": "code",
   "execution_count": 11,
   "id": "c04c8894",
   "metadata": {},
   "outputs": [
    {
     "data": {
      "text/html": [
       "<span style=\"None\">Running query in &#x27;duckdb:///../data/weather.duckdb&#x27;</span>"
      ],
      "text/plain": [
       "Running query in 'duckdb:///../data/weather.duckdb'"
      ]
     },
     "metadata": {},
     "output_type": "display_data"
    },
    {
     "data": {
      "text/html": [
       "<table>\n",
       "    <thead>\n",
       "        <tr>\n",
       "            <th>column_name</th>\n",
       "            <th>data_type</th>\n",
       "            <th>is_nullable</th>\n",
       "        </tr>\n",
       "    </thead>\n",
       "    <tbody>\n",
       "        <tr>\n",
       "            <td>city</td>\n",
       "            <td>VARCHAR</td>\n",
       "            <td>YES</td>\n",
       "        </tr>\n",
       "        <tr>\n",
       "            <td>date</td>\n",
       "            <td>DATE</td>\n",
       "            <td>YES</td>\n",
       "        </tr>\n",
       "        <tr>\n",
       "            <td>temp_max</td>\n",
       "            <td>DOUBLE</td>\n",
       "            <td>YES</td>\n",
       "        </tr>\n",
       "        <tr>\n",
       "            <td>temp_min</td>\n",
       "            <td>DOUBLE</td>\n",
       "            <td>YES</td>\n",
       "        </tr>\n",
       "        <tr>\n",
       "            <td>precipitation</td>\n",
       "            <td>DOUBLE</td>\n",
       "            <td>YES</td>\n",
       "        </tr>\n",
       "        <tr>\n",
       "            <td>windspeed_max</td>\n",
       "            <td>DOUBLE</td>\n",
       "            <td>YES</td>\n",
       "        </tr>\n",
       "    </tbody>\n",
       "</table>"
      ],
      "text/plain": [
       "+---------------+-----------+-------------+\n",
       "|  column_name  | data_type | is_nullable |\n",
       "+---------------+-----------+-------------+\n",
       "|      city     |  VARCHAR  |     YES     |\n",
       "|      date     |    DATE   |     YES     |\n",
       "|    temp_max   |   DOUBLE  |     YES     |\n",
       "|    temp_min   |   DOUBLE  |     YES     |\n",
       "| precipitation |   DOUBLE  |     YES     |\n",
       "| windspeed_max |   DOUBLE  |     YES     |\n",
       "+---------------+-----------+-------------+"
      ]
     },
     "execution_count": 11,
     "metadata": {},
     "output_type": "execute_result"
    }
   ],
   "source": [
    "%%sql\n",
    "\n",
    "SELECT column_name, data_type, is_nullable\n",
    "FROM information_schema.columns \n",
    "WHERE table_schema = 'raw' \n",
    "AND table_name = 'weatherhistorical'\n",
    "ORDER BY ordinal_position;"
   ]
  },
  {
   "cell_type": "code",
   "execution_count": null,
   "id": "4a63fff1",
   "metadata": {},
   "outputs": [],
   "source": []
  },
  {
   "cell_type": "code",
   "execution_count": null,
   "id": "86792dc4",
   "metadata": {},
   "outputs": [],
   "source": []
  },
  {
   "cell_type": "code",
   "execution_count": null,
   "id": "b8464089",
   "metadata": {},
   "outputs": [],
   "source": []
  },
  {
   "cell_type": "code",
   "execution_count": null,
   "id": "4faf4b4d",
   "metadata": {},
   "outputs": [],
   "source": []
  },
  {
   "cell_type": "code",
   "execution_count": null,
   "id": "d32a5f94",
   "metadata": {},
   "outputs": [],
   "source": []
  },
  {
   "cell_type": "code",
   "execution_count": null,
   "id": "653eb7ba",
   "metadata": {},
   "outputs": [],
   "source": []
  }
 ],
 "metadata": {
  "kernelspec": {
   "display_name": "env",
   "language": "python",
   "name": "python3"
  },
  "language_info": {
   "codemirror_mode": {
    "name": "ipython",
    "version": 3
   },
   "file_extension": ".py",
   "mimetype": "text/x-python",
   "name": "python",
   "nbconvert_exporter": "python",
   "pygments_lexer": "ipython3",
   "version": "3.10.2"
  }
 },
 "nbformat": 4,
 "nbformat_minor": 5
}
