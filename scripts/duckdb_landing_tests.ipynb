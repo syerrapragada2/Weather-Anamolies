{
 "cells": [
  {
   "cell_type": "code",
   "execution_count": 1,
   "id": "6125d10c",
   "metadata": {},
   "outputs": [
    {
     "name": "stdout",
     "output_type": "stream",
     "text": [
      "Collecting jupysql\n",
      "  Downloading jupysql-0.11.1-py3-none-any.whl (95 kB)\n",
      "\u001b[K     |████████████████████████████████| 95 kB 3.9 MB/s eta 0:00:011\n",
      "\u001b[?25hCollecting duckdb-engine\n",
      "  Downloading duckdb_engine-0.17.0-py3-none-any.whl (49 kB)\n",
      "\u001b[K     |████████████████████████████████| 49 kB 34.4 MB/s eta 0:00:01\n",
      "\u001b[?25hCollecting ipython-genutils>=0.1.0\n",
      "  Using cached ipython_genutils-0.2.0-py2.py3-none-any.whl (26 kB)\n",
      "Collecting prettytable>=3.12.0\n",
      "  Downloading prettytable-3.16.0-py3-none-any.whl (33 kB)\n",
      "Requirement already satisfied: jinja2 in /Users/kyerrapragada/Desktop/AEDE/Projects/Weather Anamolies/env/lib/python3.10/site-packages (from jupysql) (3.1.6)\n",
      "Collecting ploomber-core>=0.2.7\n",
      "  Downloading ploomber_core-0.2.27-py3-none-any.whl (22 kB)\n",
      "Requirement already satisfied: sqlparse in /Users/kyerrapragada/Desktop/AEDE/Projects/Weather Anamolies/env/lib/python3.10/site-packages (from jupysql) (0.5.3)\n",
      "Collecting jupysql-plugin>=0.4.2\n",
      "  Downloading jupysql_plugin-0.4.5-py3-none-any.whl (192 kB)\n",
      "\u001b[K     |████████████████████████████████| 192 kB 17.0 MB/s eta 0:00:01\n",
      "\u001b[?25hCollecting sqlglot>=11.3.7\n",
      "  Downloading sqlglot-27.28.1-py3-none-any.whl (524 kB)\n",
      "\u001b[K     |████████████████████████████████| 524 kB 62.2 MB/s eta 0:00:01\n",
      "\u001b[?25hRequirement already satisfied: sqlalchemy in /Users/kyerrapragada/Desktop/AEDE/Projects/Weather Anamolies/env/lib/python3.10/site-packages (from jupysql) (2.0.44)\n",
      "Requirement already satisfied: packaging>=21 in /Users/kyerrapragada/Desktop/AEDE/Projects/Weather Anamolies/env/lib/python3.10/site-packages (from duckdb-engine) (25.0)\n",
      "Requirement already satisfied: duckdb>=0.5.0 in /Users/kyerrapragada/Desktop/AEDE/Projects/Weather Anamolies/env/lib/python3.10/site-packages (from duckdb-engine) (1.4.1)\n",
      "Collecting posthog>=3.0\n",
      "  Downloading posthog-6.7.9-py3-none-any.whl (138 kB)\n",
      "\u001b[K     |████████████████████████████████| 138 kB 175.7 MB/s eta 0:00:01\n",
      "\u001b[?25hRequirement already satisfied: pyyaml in /Users/kyerrapragada/Desktop/AEDE/Projects/Weather Anamolies/env/lib/python3.10/site-packages (from ploomber-core>=0.2.7->jupysql) (6.0.3)\n",
      "Requirement already satisfied: six>=1.5 in /Users/kyerrapragada/Desktop/AEDE/Projects/Weather Anamolies/env/lib/python3.10/site-packages (from posthog>=3.0->ploomber-core>=0.2.7->jupysql) (1.17.0)\n",
      "Collecting distro>=1.5.0\n",
      "  Downloading distro-1.9.0-py3-none-any.whl (20 kB)\n",
      "Requirement already satisfied: typing-extensions>=4.2.0 in /Users/kyerrapragada/Desktop/AEDE/Projects/Weather Anamolies/env/lib/python3.10/site-packages (from posthog>=3.0->ploomber-core>=0.2.7->jupysql) (4.15.0)\n",
      "Requirement already satisfied: requests<3.0,>=2.7 in /Users/kyerrapragada/Desktop/AEDE/Projects/Weather Anamolies/env/lib/python3.10/site-packages (from posthog>=3.0->ploomber-core>=0.2.7->jupysql) (2.32.5)\n",
      "Collecting backoff>=1.10.0\n",
      "  Downloading backoff-2.2.1-py3-none-any.whl (15 kB)\n",
      "Requirement already satisfied: python-dateutil>=2.2 in /Users/kyerrapragada/Desktop/AEDE/Projects/Weather Anamolies/env/lib/python3.10/site-packages (from posthog>=3.0->ploomber-core>=0.2.7->jupysql) (2.9.0.post0)\n",
      "Requirement already satisfied: wcwidth in /Users/kyerrapragada/Desktop/AEDE/Projects/Weather Anamolies/env/lib/python3.10/site-packages (from prettytable>=3.12.0->jupysql) (0.2.14)\n",
      "Requirement already satisfied: urllib3<3,>=1.21.1 in /Users/kyerrapragada/Desktop/AEDE/Projects/Weather Anamolies/env/lib/python3.10/site-packages (from requests<3.0,>=2.7->posthog>=3.0->ploomber-core>=0.2.7->jupysql) (2.5.0)\n",
      "Requirement already satisfied: certifi>=2017.4.17 in /Users/kyerrapragada/Desktop/AEDE/Projects/Weather Anamolies/env/lib/python3.10/site-packages (from requests<3.0,>=2.7->posthog>=3.0->ploomber-core>=0.2.7->jupysql) (2025.10.5)\n",
      "Requirement already satisfied: idna<4,>=2.5 in /Users/kyerrapragada/Desktop/AEDE/Projects/Weather Anamolies/env/lib/python3.10/site-packages (from requests<3.0,>=2.7->posthog>=3.0->ploomber-core>=0.2.7->jupysql) (3.10)\n",
      "Requirement already satisfied: charset_normalizer<4,>=2 in /Users/kyerrapragada/Desktop/AEDE/Projects/Weather Anamolies/env/lib/python3.10/site-packages (from requests<3.0,>=2.7->posthog>=3.0->ploomber-core>=0.2.7->jupysql) (3.4.3)\n",
      "Requirement already satisfied: MarkupSafe>=2.0 in /Users/kyerrapragada/Desktop/AEDE/Projects/Weather Anamolies/env/lib/python3.10/site-packages (from jinja2->jupysql) (3.0.3)\n",
      "Installing collected packages: distro, backoff, posthog, ploomber-core, sqlglot, prettytable, jupysql-plugin, ipython-genutils, jupysql, duckdb-engine\n",
      "Successfully installed backoff-2.2.1 distro-1.9.0 duckdb-engine-0.17.0 ipython-genutils-0.2.0 jupysql-0.11.1 jupysql-plugin-0.4.5 ploomber-core-0.2.27 posthog-6.7.9 prettytable-3.16.0 sqlglot-27.28.1\n",
      "\u001b[33mWARNING: You are using pip version 21.2.4; however, version 25.2 is available.\n",
      "You should consider upgrading via the '/Users/kyerrapragada/Desktop/AEDE/Projects/Weather Anamolies/env/bin/python -m pip install --upgrade pip' command.\u001b[0m\n",
      "Note: you may need to restart the kernel to use updated packages.\n"
     ]
    }
   ],
   "source": [
    " pip install jupysql duckdb-engine"
   ]
  },
  {
   "cell_type": "markdown",
   "id": "a8b16c38",
   "metadata": {},
   "source": [
    "### Start ###"
   ]
  },
  {
   "cell_type": "code",
   "execution_count": 3,
   "id": "4d1f4acd",
   "metadata": {},
   "outputs": [
    {
     "name": "stdout",
     "output_type": "stream",
     "text": [
      "The sql extension is already loaded. To reload it, use:\n",
      "  %reload_ext sql\n"
     ]
    },
    {
     "data": {
      "text/html": [
       "<span style=\"None\">Connecting to &#x27;duckdb:///../data/weather.duckdb&#x27;</span>"
      ],
      "text/plain": [
       "Connecting to 'duckdb:///../data/weather.duckdb'"
      ]
     },
     "metadata": {},
     "output_type": "display_data"
    }
   ],
   "source": [
    "%load_ext sql\n",
    "%sql duckdb:///../data/weather.duckdb"
   ]
  },
  {
   "cell_type": "code",
   "execution_count": 4,
   "id": "d6036981",
   "metadata": {},
   "outputs": [
    {
     "data": {
      "text/html": [
       "<span style=\"None\">Running query in &#x27;duckdb:///../data/weather.duckdb&#x27;</span>"
      ],
      "text/plain": [
       "Running query in 'duckdb:///../data/weather.duckdb'"
      ]
     },
     "metadata": {},
     "output_type": "display_data"
    },
    {
     "data": {
      "text/html": [
       "<table>\n",
       "    <thead>\n",
       "        <tr>\n",
       "            <th>city</th>\n",
       "            <th>date</th>\n",
       "            <th>temp_max</th>\n",
       "            <th>temp_min</th>\n",
       "            <th>precipitation</th>\n",
       "            <th>windspeed_max</th>\n",
       "        </tr>\n",
       "    </thead>\n",
       "    <tbody>\n",
       "        <tr>\n",
       "            <td>Tokyo_JP</td>\n",
       "            <td>2022-01-01</td>\n",
       "            <td>6.0</td>\n",
       "            <td>-2.4</td>\n",
       "            <td>0.0</td>\n",
       "            <td>39.2</td>\n",
       "        </tr>\n",
       "        <tr>\n",
       "            <td>Tokyo_JP</td>\n",
       "            <td>2022-01-02</td>\n",
       "            <td>6.1</td>\n",
       "            <td>-1.6</td>\n",
       "            <td>0.0</td>\n",
       "            <td>23.1</td>\n",
       "        </tr>\n",
       "        <tr>\n",
       "            <td>Tokyo_JP</td>\n",
       "            <td>2022-01-03</td>\n",
       "            <td>8.9</td>\n",
       "            <td>-0.9</td>\n",
       "            <td>0.0</td>\n",
       "            <td>30.4</td>\n",
       "        </tr>\n",
       "        <tr>\n",
       "            <td>Tokyo_JP</td>\n",
       "            <td>2022-01-04</td>\n",
       "            <td>10.9</td>\n",
       "            <td>-2.7</td>\n",
       "            <td>0.1</td>\n",
       "            <td>41.4</td>\n",
       "        </tr>\n",
       "        <tr>\n",
       "            <td>Tokyo_JP</td>\n",
       "            <td>2022-01-05</td>\n",
       "            <td>6.9</td>\n",
       "            <td>-1.2</td>\n",
       "            <td>0.0</td>\n",
       "            <td>35.9</td>\n",
       "        </tr>\n",
       "        <tr>\n",
       "            <td>Tokyo_JP</td>\n",
       "            <td>2022-01-06</td>\n",
       "            <td>0.8</td>\n",
       "            <td>-2.9</td>\n",
       "            <td>7.2</td>\n",
       "            <td>16.0</td>\n",
       "        </tr>\n",
       "        <tr>\n",
       "            <td>Tokyo_JP</td>\n",
       "            <td>2022-01-07</td>\n",
       "            <td>7.4</td>\n",
       "            <td>-7.8</td>\n",
       "            <td>0.0</td>\n",
       "            <td>32.1</td>\n",
       "        </tr>\n",
       "        <tr>\n",
       "            <td>Tokyo_JP</td>\n",
       "            <td>2022-01-08</td>\n",
       "            <td>8.4</td>\n",
       "            <td>0.3</td>\n",
       "            <td>0.0</td>\n",
       "            <td>24.0</td>\n",
       "        </tr>\n",
       "        <tr>\n",
       "            <td>Tokyo_JP</td>\n",
       "            <td>2022-01-09</td>\n",
       "            <td>10.5</td>\n",
       "            <td>-2.7</td>\n",
       "            <td>0.0</td>\n",
       "            <td>18.5</td>\n",
       "        </tr>\n",
       "        <tr>\n",
       "            <td>Tokyo_JP</td>\n",
       "            <td>2022-01-10</td>\n",
       "            <td>8.7</td>\n",
       "            <td>2.9</td>\n",
       "            <td>0.0</td>\n",
       "            <td>19.9</td>\n",
       "        </tr>\n",
       "    </tbody>\n",
       "</table>\n",
       "<span style=\"font-style:italic;text-align:center;\">Truncated to <a href=\"https://jupysql.ploomber.io/en/latest/api/configuration.html#displaylimit\">displaylimit</a> of 10.</span>"
      ],
      "text/plain": [
       "+----------+------------+----------+----------+---------------+---------------+\n",
       "|   city   |    date    | temp_max | temp_min | precipitation | windspeed_max |\n",
       "+----------+------------+----------+----------+---------------+---------------+\n",
       "| Tokyo_JP | 2022-01-01 |   6.0    |   -2.4   |      0.0      |      39.2     |\n",
       "| Tokyo_JP | 2022-01-02 |   6.1    |   -1.6   |      0.0      |      23.1     |\n",
       "| Tokyo_JP | 2022-01-03 |   8.9    |   -0.9   |      0.0      |      30.4     |\n",
       "| Tokyo_JP | 2022-01-04 |   10.9   |   -2.7   |      0.1      |      41.4     |\n",
       "| Tokyo_JP | 2022-01-05 |   6.9    |   -1.2   |      0.0      |      35.9     |\n",
       "| Tokyo_JP | 2022-01-06 |   0.8    |   -2.9   |      7.2      |      16.0     |\n",
       "| Tokyo_JP | 2022-01-07 |   7.4    |   -7.8   |      0.0      |      32.1     |\n",
       "| Tokyo_JP | 2022-01-08 |   8.4    |   0.3    |      0.0      |      24.0     |\n",
       "| Tokyo_JP | 2022-01-09 |   10.5   |   -2.7   |      0.0      |      18.5     |\n",
       "| Tokyo_JP | 2022-01-10 |   8.7    |   2.9    |      0.0      |      19.9     |\n",
       "+----------+------------+----------+----------+---------------+---------------+\n",
       "Truncated to displaylimit of 10."
      ]
     },
     "execution_count": 4,
     "metadata": {},
     "output_type": "execute_result"
    }
   ],
   "source": [
    "%%sql\n",
    "SELECT * FROM raw.weatherhistorical LIMIT 10;"
   ]
  },
  {
   "cell_type": "code",
   "execution_count": 5,
   "id": "ad8cd8e6",
   "metadata": {},
   "outputs": [
    {
     "data": {
      "text/html": [
       "<span style=\"None\">Running query in &#x27;duckdb:///../data/weather.duckdb&#x27;</span>"
      ],
      "text/plain": [
       "Running query in 'duckdb:///../data/weather.duckdb'"
      ]
     },
     "metadata": {},
     "output_type": "display_data"
    },
    {
     "data": {
      "text/html": [
       "<table>\n",
       "    <thead>\n",
       "        <tr>\n",
       "            <th>count_star()</th>\n",
       "        </tr>\n",
       "    </thead>\n",
       "    <tbody>\n",
       "        <tr>\n",
       "            <td>21920</td>\n",
       "        </tr>\n",
       "    </tbody>\n",
       "</table>"
      ],
      "text/plain": [
       "+--------------+\n",
       "| count_star() |\n",
       "+--------------+\n",
       "|    21920     |\n",
       "+--------------+"
      ]
     },
     "execution_count": 5,
     "metadata": {},
     "output_type": "execute_result"
    }
   ],
   "source": [
    "%%sql\n",
    "select count(*) from raw.weatherhistorical;"
   ]
  },
  {
   "cell_type": "code",
   "execution_count": 6,
   "id": "004bd779",
   "metadata": {},
   "outputs": [
    {
     "data": {
      "text/html": [
       "<span style=\"None\">Running query in &#x27;duckdb:///../data/weather.duckdb&#x27;</span>"
      ],
      "text/plain": [
       "Running query in 'duckdb:///../data/weather.duckdb'"
      ]
     },
     "metadata": {},
     "output_type": "display_data"
    },
    {
     "data": {
      "text/html": [
       "<table>\n",
       "    <thead>\n",
       "        <tr>\n",
       "            <th>city_null_pct</th>\n",
       "            <th>date_null_pct</th>\n",
       "            <th>temp_max_null_pct</th>\n",
       "            <th>temp_min_null_pct</th>\n",
       "            <th>precipitation_null_pct</th>\n",
       "            <th>windspeed_max_null_pct</th>\n",
       "        </tr>\n",
       "    </thead>\n",
       "    <tbody>\n",
       "        <tr>\n",
       "            <td>None</td>\n",
       "            <td>None</td>\n",
       "            <td>None</td>\n",
       "            <td>None</td>\n",
       "            <td>None</td>\n",
       "            <td>None</td>\n",
       "        </tr>\n",
       "    </tbody>\n",
       "</table>"
      ],
      "text/plain": [
       "+---------------+---------------+-------------------+-------------------+------------------------+------------------------+\n",
       "| city_null_pct | date_null_pct | temp_max_null_pct | temp_min_null_pct | precipitation_null_pct | windspeed_max_null_pct |\n",
       "+---------------+---------------+-------------------+-------------------+------------------------+------------------------+\n",
       "|      None     |      None     |        None       |        None       |          None          |          None          |\n",
       "+---------------+---------------+-------------------+-------------------+------------------------+------------------------+"
      ]
     },
     "execution_count": 6,
     "metadata": {},
     "output_type": "execute_result"
    }
   ],
   "source": [
    "%%sql\n",
    "select \n",
    "sum(case when city is null then 1 end) / count(*) as city_null_pct,\n",
    "sum(case when date is null then 1 end) / count(*) as date_null_pct,\n",
    "sum(case when temp_max is null then 1 end) / count(*) as temp_max_null_pct,\n",
    "sum(case when temp_min is null then 1 end) / count(*) as temp_min_null_pct,\n",
    "sum(case when precipitation is null then 1 end) / count(*) as precipitation_null_pct,\n",
    "sum(case when windspeed_max is null then 1 end) / count(*) as windspeed_max_null_pct\n",
    "from raw.weatherhistorical;\n"
   ]
  },
  {
   "cell_type": "code",
   "execution_count": 8,
   "id": "824db380",
   "metadata": {},
   "outputs": [
    {
     "data": {
      "text/html": [
       "<span style=\"None\">Running query in &#x27;duckdb:///../data/weather.duckdb&#x27;</span>"
      ],
      "text/plain": [
       "Running query in 'duckdb:///../data/weather.duckdb'"
      ]
     },
     "metadata": {},
     "output_type": "display_data"
    },
    {
     "data": {
      "text/html": [
       "<table>\n",
       "    <thead>\n",
       "        <tr>\n",
       "            <th>min_date</th>\n",
       "            <th>max_date</th>\n",
       "        </tr>\n",
       "    </thead>\n",
       "    <tbody>\n",
       "        <tr>\n",
       "            <td>2022-01-01</td>\n",
       "            <td>2024-12-31</td>\n",
       "        </tr>\n",
       "    </tbody>\n",
       "</table>"
      ],
      "text/plain": [
       "+------------+------------+\n",
       "|  min_date  |  max_date  |\n",
       "+------------+------------+\n",
       "| 2022-01-01 | 2024-12-31 |\n",
       "+------------+------------+"
      ]
     },
     "execution_count": 8,
     "metadata": {},
     "output_type": "execute_result"
    }
   ],
   "source": [
    "%%sql \n",
    "select min(date) as min_date, max(date) as max_date from raw.weatherhistorical;"
   ]
  },
  {
   "cell_type": "code",
   "execution_count": null,
   "id": "ce9b48c2",
   "metadata": {},
   "outputs": [],
   "source": []
  },
  {
   "cell_type": "code",
   "execution_count": null,
   "id": "d32a5f94",
   "metadata": {},
   "outputs": [],
   "source": []
  },
  {
   "cell_type": "code",
   "execution_count": null,
   "id": "653eb7ba",
   "metadata": {},
   "outputs": [],
   "source": []
  }
 ],
 "metadata": {
  "kernelspec": {
   "display_name": "env",
   "language": "python",
   "name": "python3"
  },
  "language_info": {
   "codemirror_mode": {
    "name": "ipython",
    "version": 3
   },
   "file_extension": ".py",
   "mimetype": "text/x-python",
   "name": "python",
   "nbconvert_exporter": "python",
   "pygments_lexer": "ipython3",
   "version": "3.10.2"
  }
 },
 "nbformat": 4,
 "nbformat_minor": 5
}
